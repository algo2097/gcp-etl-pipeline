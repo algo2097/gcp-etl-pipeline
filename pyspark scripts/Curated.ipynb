{
 "cells": [
  {
   "cell_type": "code",
   "execution_count": 0,
   "metadata": {
    "application/vnd.databricks.v1+cell": {
     "cellMetadata": {
      "byteLimit": 2048000,
      "rowLimit": 10000
     },
     "inputWidgets": {},
     "nuid": "bd736ae5-2fe6-4dc3-8723-231495148a69",
     "showTitle": false,
     "tableResultSettingsMap": {},
     "title": ""
    }
   },
   "outputs": [],
   "source": [
    "# Importing necessry libraries and creating a spark session.\n",
    "from pyspark.sql import SparkSession, functions as func, types as t, Window\n",
    "import datetime as dt\n",
    "from pyspark.sql import functions as func, types as t\n",
    "\n",
    "spark = (SparkSession.builder\n",
    "         .appName(\"step7-data_enrichement\")\n",
    "         .getOrCreate())"
   ]
  },
  {
   "cell_type": "code",
   "execution_count": 0,
   "metadata": {
    "application/vnd.databricks.v1+cell": {
     "cellMetadata": {
      "byteLimit": 2048000,
      "rowLimit": 10000
     },
     "inputWidgets": {},
     "nuid": "07c21d75-a7f7-4661-acb3-7e385acd5934",
     "showTitle": false,
     "tableResultSettingsMap": {},
     "title": ""
    }
   },
   "outputs": [],
   "source": [
    "# Setting up some configuration variables.\n",
    "PROJECT = \"enrichment-etl-jlr\"\n",
    "TRANS_DS = \"transformed\"\n",
    "RUN_DATE = dt.date.today().strftime(\"%Y%m%d\")\n",
    "\n",
    "# Loading the data.\n",
    "enriched_df = (spark.read.format(\"bigquery\")\n",
    "        .option(\"table\", f\"{PROJECT}.{TRANS_DS}.enriched_data\")\n",
    "        .load())\n"
   ]
  },
  {
   "cell_type": "code",
   "execution_count": 0,
   "metadata": {
    "application/vnd.databricks.v1+cell": {
     "cellMetadata": {
      "byteLimit": 2048000,
      "rowLimit": 10000
     },
     "inputWidgets": {},
     "nuid": "57d25a67-2fa5-4212-b1a8-21180f57712b",
     "showTitle": false,
     "tableResultSettingsMap": {},
     "title": ""
    }
   },
   "outputs": [],
   "source": [
    "# Preparing data\n",
    "enriched_df = enriched_df.filter(func.col('net_sales_price').cast('double').isNotNull())\n",
    "enriched_df = enriched_df.filter(func.col('production_cost').cast('double').isNotNull())\n",
    "# Added a new column profit_per_transaction with Nulls\n",
    "enriched_df = enriched_df.withColumn('profit_per_transaction', func.lit(None).cast('double'))"
   ]
  },
  {
   "cell_type": "code",
   "execution_count": 0,
   "metadata": {
    "application/vnd.databricks.v1+cell": {
     "cellMetadata": {
      "byteLimit": 2048000,
      "rowLimit": 10000
     },
     "inputWidgets": {},
     "nuid": "20df5d50-404e-4cf5-b92e-5035e6ca9430",
     "showTitle": false,
     "tableResultSettingsMap": {},
     "title": ""
    }
   },
   "outputs": [],
   "source": [
    "#enriched_df.show()"
   ]
  },
  {
   "cell_type": "code",
   "execution_count": 0,
   "metadata": {
    "application/vnd.databricks.v1+cell": {
     "cellMetadata": {
      "byteLimit": 2048000,
      "rowLimit": 10000
     },
     "inputWidgets": {},
     "nuid": "0c772412-78a4-45b4-9484-c0a710eb78e4",
     "showTitle": false,
     "tableResultSettingsMap": {},
     "title": ""
    }
   },
   "outputs": [
    {
     "output_type": "execute_result",
     "data": {
      "text/plain": [
       "'null_report = enriched_df.select(\\n    [func.sum(func.when(func.col(c).isNull(), 1).otherwise(0)).alias(c) for c in enriched_df.columns]\\n)\\nprint(\"Null Value Report:\")\\nnull_report.show(truncate=False)'"
      ]
     },
     "execution_count": 5,
     "metadata": {},
     "output_type": "execute_result"
    }
   ],
   "source": [
    "# Null Value checks on enriched_df\n",
    "\"\"\"null_report = enriched_df.select(\n",
    "    [func.sum(func.when(func.col(c).isNull(), 1).otherwise(0)).alias(c) for c in enriched_df.columns]\n",
    ")\n",
    "print(\"Null Value Report:\")\n",
    "null_report.show(truncate=False)\"\"\""
   ]
  },
  {
   "cell_type": "code",
   "execution_count": 0,
   "metadata": {
    "application/vnd.databricks.v1+cell": {
     "cellMetadata": {
      "byteLimit": 2048000,
      "rowLimit": 10000
     },
     "inputWidgets": {},
     "nuid": "f32743b3-2c2d-4b0d-8ce6-b63784e2ecd3",
     "showTitle": false,
     "tableResultSettingsMap": {},
     "title": ""
    }
   },
   "outputs": [],
   "source": [
    "# Computing profit per transaction.\n",
    "enriched_df = enriched_df.withColumn(\n",
    "    'profit_per_transaction',\n",
    "    func.col('net_sales_price') - func.col('production_cost')\n",
    ")"
   ]
  },
  {
   "cell_type": "code",
   "execution_count": 0,
   "metadata": {
    "application/vnd.databricks.v1+cell": {
     "cellMetadata": {
      "byteLimit": 2048000,
      "rowLimit": 10000
     },
     "inputWidgets": {},
     "nuid": "c949bfdf-3966-4237-8b1a-1e23553f28d3",
     "showTitle": false,
     "tableResultSettingsMap": {},
     "title": ""
    }
   },
   "outputs": [],
   "source": [
    "#enriched_df.show()"
   ]
  },
  {
   "cell_type": "code",
   "execution_count": 0,
   "metadata": {
    "application/vnd.databricks.v1+cell": {
     "cellMetadata": {
      "byteLimit": 2048000,
      "rowLimit": 10000
     },
     "inputWidgets": {},
     "nuid": "4ecc4ed3-53e5-4955-82d0-e40b83722714",
     "showTitle": false,
     "tableResultSettingsMap": {},
     "title": ""
    }
   },
   "outputs": [
    {
     "output_type": "execute_result",
     "data": {
      "text/plain": [
       "'null_report = enriched_df.select(\\n    [func.sum(func.when(func.col(c).isNull(), 1).otherwise(0)).alias(c) for c in enriched_df.columns]\\n)\\nprint(\"Null Value Report:\")\\nnull_report.show(truncate=False)'"
      ]
     },
     "execution_count": 8,
     "metadata": {},
     "output_type": "execute_result"
    }
   ],
   "source": [
    "# Null Value checks on enriched_df\n",
    "\"\"\"null_report = enriched_df.select(\n",
    "    [func.sum(func.when(func.col(c).isNull(), 1).otherwise(0)).alias(c) for c in enriched_df.columns]\n",
    ")\n",
    "print(\"Null Value Report:\")\n",
    "null_report.show(truncate=False)\"\"\""
   ]
  },
  {
   "cell_type": "code",
   "execution_count": 0,
   "metadata": {
    "application/vnd.databricks.v1+cell": {
     "cellMetadata": {
      "byteLimit": 2048000,
      "rowLimit": 10000
     },
     "inputWidgets": {},
     "nuid": "f8c7d50e-9518-4aa7-b9c2-e483d2c94915",
     "showTitle": false,
     "tableResultSettingsMap": {},
     "title": ""
    }
   },
   "outputs": [],
   "source": [
    "# This will show any rows where profit_per_transaction is not a number\n",
    "#enriched_df.filter(func.col('profit_per_transaction').cast('double').isNull()).show()"
   ]
  },
  {
   "cell_type": "code",
   "execution_count": 0,
   "metadata": {
    "application/vnd.databricks.v1+cell": {
     "cellMetadata": {
      "byteLimit": 2048000,
      "rowLimit": 10000
     },
     "inputWidgets": {},
     "nuid": "87cdba1d-69e0-42e9-adfd-1d78995e1bd9",
     "showTitle": false,
     "tableResultSettingsMap": {},
     "title": ""
    }
   },
   "outputs": [],
   "source": [
    "## Write the updated dataset to csv for reporting\n",
    "enriched_df.coalesce(1).write.format(\"csv\") \\\n",
    "    .option(\"header\", \"true\") \\\n",
    "    .mode(\"overwrite\") \\\n",
    "    .save(\"gs://enrichment-etl-jlr/curated/output.csv\")"
   ]
  },
  {
   "cell_type": "code",
   "execution_count": 0,
   "metadata": {
    "application/vnd.databricks.v1+cell": {
     "cellMetadata": {
      "byteLimit": 2048000,
      "rowLimit": 10000
     },
     "inputWidgets": {},
     "nuid": "25fe770c-68e4-4f1c-86aa-16e42af31a65",
     "showTitle": false,
     "tableResultSettingsMap": {},
     "title": ""
    }
   },
   "outputs": [
    {
     "output_type": "stream",
     "name": "stdout",
     "output_type": "stream",
     "text": [
      "Folder is clean or does not exist: gs://enrichment-etl-jlr/curated/data_parquet/ready.marker\nFolder is clean or does not exist: gs://enrichment-etl-jlr/curated/data/ready.marker\n"
     ]
    }
   ],
   "source": [
    "# Checking and emptying the parquet folders.\n",
    "def folder_exists(path: str) -> bool:\n",
    "    try:\n",
    "        return len(dbutils.fs.ls(path)) > 0\n",
    "    except Exception:\n",
    "        return False\n",
    "\n",
    "parquet_folder_paths = [\"gs://enrichment-etl-jlr/curated/data_parquet/ready.marker\",\n",
    "                        \"gs://enrichment-etl-jlr/curated/data/ready.marker\"]\n",
    "for parquet_folder_path in parquet_folder_paths:\n",
    "    if folder_exists(parquet_folder_path):\n",
    "        print(f\"Folder exists with data: {parquet_folder_path}\")\n",
    "        dbutils.fs.rm(parquet_folder_path, recurse=True)\n",
    "        print(\"Deleted old data\")\n",
    "    else:\n",
    "        print(f\"Folder is clean or does not exist: {parquet_folder_path}\")"
   ]
  },
  {
   "cell_type": "code",
   "execution_count": 0,
   "metadata": {
    "application/vnd.databricks.v1+cell": {
     "cellMetadata": {
      "byteLimit": 2048000,
      "rowLimit": 10000
     },
     "inputWidgets": {},
     "nuid": "9ce063f2-b42d-4361-bfbb-f0b4b76aabc9",
     "showTitle": false,
     "tableResultSettingsMap": {},
     "title": ""
    }
   },
   "outputs": [],
   "source": [
    "enriched_df.withColumn(\n",
    "    \"run_date\", func.lit(RUN_DATE)\n",
    "    ).write.mode(\"overwrite\").partitionBy(\"run_date\").parquet('gs://enrichment-etl-jlr/curated/data/')"
   ]
  },
  {
   "cell_type": "code",
   "execution_count": 0,
   "metadata": {
    "application/vnd.databricks.v1+cell": {
     "cellMetadata": {
      "byteLimit": 2048000,
      "rowLimit": 10000
     },
     "inputWidgets": {},
     "nuid": "30b5b40c-944a-43b9-af5e-ce472130f2a6",
     "showTitle": false,
     "tableResultSettingsMap": {},
     "title": ""
    }
   },
   "outputs": [],
   "source": [
    "exit()"
   ]
  },
  {
   "cell_type": "code",
   "execution_count": 0,
   "metadata": {
    "application/vnd.databricks.v1+cell": {
     "cellMetadata": {
      "byteLimit": 2048000,
      "rowLimit": 10000
     },
     "inputWidgets": {},
     "nuid": "0f7845c4-80b6-4237-ab8c-ce051248b761",
     "showTitle": false,
     "tableResultSettingsMap": {},
     "title": ""
    }
   },
   "outputs": [],
   "source": []
  }
 ],
 "metadata": {
  "application/vnd.databricks.v1+notebook": {
   "computePreferences": null,
   "dashboards": [],
   "environmentMetadata": {
    "base_environment": "",
    "environment_version": "3"
   },
   "inputWidgetPreferences": null,
   "language": "python",
   "notebookMetadata": {
    "pythonIndentUnit": 4
   },
   "notebookName": "Curated",
   "widgets": {}
  },
  "language_info": {
   "name": "python"
  }
 },
 "nbformat": 4,
 "nbformat_minor": 0
}