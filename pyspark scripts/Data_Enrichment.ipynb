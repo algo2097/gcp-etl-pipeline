{
 "cells": [
  {
   "cell_type": "code",
   "execution_count": 0,
   "metadata": {
    "application/vnd.databricks.v1+cell": {
     "cellMetadata": {
      "byteLimit": 2048000,
      "rowLimit": 10000
     },
     "inputWidgets": {},
     "nuid": "534b3ba6-7752-4e58-aea1-b81c71d7603f",
     "showTitle": false,
     "tableResultSettingsMap": {},
     "title": ""
    }
   },
   "outputs": [],
   "source": [
    "# Importing necessry libraries and creating a spark session.\n",
    "from pyspark.sql import SparkSession, functions as func, types as t, Window\n",
    "import datetime as dt\n",
    "from pyspark.sql import functions as func, types as t\n",
    "\n",
    "project  = \"enrichment-etl-jlr\"\n",
    "location = \"europe-west2\"\n",
    "\n",
    "spark = (SparkSession.builder\n",
    "         .appName(\"step7-data_enrichement\")\n",
    "         .getOrCreate())"
   ]
  },
  {
   "cell_type": "code",
   "execution_count": 0,
   "metadata": {
    "application/vnd.databricks.v1+cell": {
     "cellMetadata": {
      "byteLimit": 2048000,
      "rowLimit": 10000
     },
     "inputWidgets": {},
     "nuid": "4748a325-ba65-4341-b070-a27b192654db",
     "showTitle": false,
     "tableResultSettingsMap": {},
     "title": ""
    }
   },
   "outputs": [],
   "source": [
    "# Setting up some configuration variables.\n",
    "PROJECT_ID = 'enrichment-etl-jlr'\n",
    "BUCKET = 'enrichment-etl-jlr'\n",
    "RUN_DATE = dt.date.today().strftime(\"%Y%m%d\")"
   ]
  },
  {
   "cell_type": "code",
   "execution_count": 0,
   "metadata": {
    "application/vnd.databricks.v1+cell": {
     "cellMetadata": {
      "byteLimit": 2048000,
      "rowLimit": 10000
     },
     "inputWidgets": {},
     "nuid": "edd86099-2e7d-47b5-9ca3-6adcc1736cc7",
     "showTitle": false,
     "tableResultSettingsMap": {},
     "title": ""
    }
   },
   "outputs": [],
   "source": [
    "# Loading from the BigQuery tables created\n",
    "base_df = spark.read.format(\"bigquery\").option(\n",
    "    \"table\",\n",
    "    f\"{PROJECT_ID}.transformed.base_data\").load()\n",
    "opts_df = spark.read.format(\"bigquery\").option(\n",
    "    \"table\",\n",
    "    f\"{PROJECT_ID}.transformed.options_data\").load()\n",
    "vlm_df  = spark.read.format(\"bigquery\").option(\n",
    "    \"table\", \n",
    "    f\"{PROJECT_ID}.transformed.vehicle_line_mapping\").load()"
   ]
  },
  {
   "cell_type": "code",
   "execution_count": 0,
   "metadata": {
    "application/vnd.databricks.v1+cell": {
     "cellMetadata": {
      "byteLimit": 2048000,
      "rowLimit": 10000
     },
     "inputWidgets": {},
     "nuid": "4dc41e0a-d264-406c-8aaf-d01e50050401",
     "showTitle": false,
     "tableResultSettingsMap": {},
     "title": ""
    }
   },
   "outputs": [],
   "source": [
    "# Added a new column production_cost with Nulls.\n",
    "enriched_df = base_df.withColumn(\n",
    "    'production_cost', \n",
    "    func.lit(None).cast(t.DecimalType(10, 2))\n",
    "    )\n",
    "# Dropping the outliers or negative values.\n",
    "enriched_df = enriched_df.filter(\n",
    "    (func.col('net_sales_price').isNotNull())\n",
    "    )"
   ]
  },
  {
   "cell_type": "code",
   "execution_count": 0,
   "metadata": {
    "application/vnd.databricks.v1+cell": {
     "cellMetadata": {
      "byteLimit": 2048000,
      "rowLimit": 10000
     },
     "inputWidgets": {},
     "nuid": "8abd69ab-d414-40ba-a708-b4803ab16f01",
     "showTitle": false,
     "tableResultSettingsMap": {},
     "title": ""
    }
   },
   "outputs": [],
   "source": [
    "#enriched_df.show()"
   ]
  },
  {
   "cell_type": "code",
   "execution_count": 0,
   "metadata": {
    "application/vnd.databricks.v1+cell": {
     "cellMetadata": {
      "byteLimit": 2048000,
      "rowLimit": 10000
     },
     "inputWidgets": {},
     "nuid": "fbdb3352-9446-45c4-bbf2-106c83007190",
     "showTitle": false,
     "tableResultSettingsMap": {},
     "title": ""
    }
   },
   "outputs": [
    {
     "output_type": "execute_result",
     "data": {
      "text/plain": [
       "'\\nnull_report = enriched_df.select(\\n    [func.sum(\\n        func.when(\\n            func.col(c).isNull(), 1).otherwise(0)).alias(c) for c in enriched_df.columns]\\n)\\nprint(\"Null Value Report:\")\\nnull_report.show(truncate=False)\\n'"
      ]
     },
     "execution_count": 6,
     "metadata": {},
     "output_type": "execute_result"
    }
   ],
   "source": [
    "# Null Value checks on enriched_df\n",
    "\"\"\"\n",
    "null_report = enriched_df.select(\n",
    "    [func.sum(\n",
    "        func.when(\n",
    "            func.col(c).isNull(), 1).otherwise(0)).alias(c) for c in enriched_df.columns]\n",
    ")\n",
    "print(\"Null Value Report:\")\n",
    "null_report.show(truncate=False)\n",
    "\"\"\""
   ]
  },
  {
   "cell_type": "code",
   "execution_count": 0,
   "metadata": {
    "application/vnd.databricks.v1+cell": {
     "cellMetadata": {
      "byteLimit": 2048000,
      "rowLimit": 10000
     },
     "inputWidgets": {},
     "nuid": "3c4b16f7-74ac-4ba9-8c66-693c2a9fa247",
     "showTitle": false,
     "tableResultSettingsMap": {},
     "title": ""
    }
   },
   "outputs": [],
   "source": [
    "# Joining the Dataset with options_data\n",
    "enriched_df = enriched_df.join(\n",
    "    opts_df.select('model', 'option_code', 'material_cost'),\n",
    "    (enriched_df.model == opts_df.model) & (enriched_df.option_code == opts_df.option_code),\n",
    "    how='left_outer'\n",
    ")\n",
    "\n",
    "# Dropping the ambigous and unnecessary columns.\n",
    "enriched_df = enriched_df.drop(opts_df.option_code)\n",
    "enriched_df = enriched_df.drop(opts_df.model)"
   ]
  },
  {
   "cell_type": "code",
   "execution_count": 0,
   "metadata": {
    "application/vnd.databricks.v1+cell": {
     "cellMetadata": {
      "byteLimit": 2048000,
      "rowLimit": 10000
     },
     "inputWidgets": {},
     "nuid": "0f3979da-1a37-443b-96ef-720e6bc173ed",
     "showTitle": false,
     "tableResultSettingsMap": {},
     "title": ""
    }
   },
   "outputs": [
    {
     "output_type": "stream",
     "name": "stdout",
     "output_type": "stream",
     "text": [
      "+---------------+-----------+--------------------+-------+-----------------+------------+---------------+----------+---------------+-------------+\n|            vin|option_code|         option_desc|  model|       model_name|net_quantity|net_sales_price|  run_date|production_cost|material_cost|\n+---------------+-----------+--------------------+-------+-----------------+------------+---------------+----------+---------------+-------------+\n|SAL423322000144|      005BB|  Core Paint - 005BB|Unknown|          Unknown|           1|    0.000000000|2025-09-05|           NULL|         NULL|\n|SAL423322000042|      005BB|  Core Paint - 005BB|Unknown|          Unknown|           1|    0.000000000|2025-09-05|           NULL|         NULL|\n|SAL423322000024|      005BB|  Core Paint - 005BB|Unknown|          Unknown|           1|    0.000000000|2025-09-05|           NULL|         NULL|\n|SAL423322000096|      005BB|  Core Paint - 005BB|Unknown|          Unknown|           1|    0.000000000|2025-09-05|           NULL|         NULL|\n|SAL423322000134|      005BB|  Core Paint - 005BB|Unknown|          Unknown|           1|    0.000000000|2025-09-05|           NULL|         NULL|\n|SAL423322000105|      005BE|  Core Wheel - 005BE|   L320|Range Rover Sport|           1|    0.000000000|2025-09-05|           NULL|         NULL|\n|SAL423322000161|      005BE|  Core Wheel - 005BE|   L320|Range Rover Sport|           1|    0.000000000|2025-09-05|           NULL|         NULL|\n|SAL423322000049|      005BE|  Core Wheel - 005BE|   L320|Range Rover Sport|           1|    0.000000000|2025-09-05|           NULL|         NULL|\n|SAL423322000100|      005BE|  Core Wheel - 005BE|   L320|Range Rover Sport|           1|    0.000000000|2025-09-05|           NULL|         NULL|\n|SAL423322000097|      005BE|  Core Wheel - 005BE|   L320|Range Rover Sport|           1|    0.000000000|2025-09-05|           NULL|         NULL|\n|SAL423322000129|      005BE|  Core Wheel - 005BE|   L320|Range Rover Sport|           1|    0.000000000|2025-09-05|           NULL|         NULL|\n|SAL423322000160|      005BE|  Core Wheel - 005BE|   L320|Range Rover Sport|           1|    0.000000000|2025-09-05|           NULL|         NULL|\n|SAL423322000548|      005BJ|Ebony Premium Hea...|   L462|          Unknown|           0|    0.000000000|2025-09-05|           NULL|         NULL|\n|SAL423322000662|      005BJ|Ebony Premium Hea...|   L462|          Unknown|           0|    0.000000000|2025-09-05|           NULL|         NULL|\n|SAL423322000237|      005BJ|Ebony Premium Hea...|   L462|          Unknown|           0|    0.000000000|2025-09-05|           NULL|         NULL|\n|SAL423322000447|      005BJ|Ebony Premium Hea...|   L462|          Unknown|           0|    0.000000000|2025-09-05|           NULL|         NULL|\n|SAL423322000415|      005BJ|Ebony Premium Hea...|   L462|          Unknown|           0|    0.000000000|2025-09-05|           NULL|         NULL|\n|SAL423322001967|      005BJ|Ebony Premium Hea...|   L462|          Unknown|           0|    0.000000000|2025-09-05|           NULL|         NULL|\n|SAL423322000202|      005BJ|Ebony Premium Hea...|   L462|          Unknown|           0|    0.000000000|2025-09-05|           NULL|         NULL|\n|SAL423322000956|      005BJ|Ebony Premium Hea...|   L462|          Unknown|           0|    0.000000000|2025-09-05|           NULL|         NULL|\n+---------------+-----------+--------------------+-------+-----------------+------------+---------------+----------+---------------+-------------+\nonly showing top 20 rows\n"
     ]
    }
   ],
   "source": [
    "enriched_df.show()"
   ]
  },
  {
   "cell_type": "code",
   "execution_count": 0,
   "metadata": {
    "application/vnd.databricks.v1+cell": {
     "cellMetadata": {
      "byteLimit": 2048000,
      "rowLimit": 10000
     },
     "inputWidgets": {},
     "nuid": "19606704-cde1-4107-9cca-72d1b1732c7b",
     "showTitle": false,
     "tableResultSettingsMap": {},
     "title": ""
    }
   },
   "outputs": [],
   "source": [
    "# Computing average material cost for a particular option_code accross models.\n",
    "avg_material_cost_by_code = opts_df.filter(\n",
    "    func.col('material_cost') != 0\n",
    ").groupBy(\n",
    "    'option_code'\n",
    ").agg(\n",
    "    func.avg('material_cost').alias('avg_material_cost')\n",
    ")\n",
    "\n",
    "avg_material_cost_by_code = avg_material_cost_by_code.select(\n",
    "    func.col(\"option_code\").alias(\"options_code\"),\n",
    "    \"avg_material_cost\"\n",
    ")"
   ]
  },
  {
   "cell_type": "code",
   "execution_count": 0,
   "metadata": {
    "application/vnd.databricks.v1+cell": {
     "cellMetadata": {
      "byteLimit": 2048000,
      "rowLimit": 10000
     },
     "inputWidgets": {},
     "nuid": "5b8b3d1c-7c90-4121-946a-f6a265633cb4",
     "showTitle": false,
     "tableResultSettingsMap": {},
     "title": ""
    }
   },
   "outputs": [],
   "source": []
  },
  {
   "cell_type": "code",
   "execution_count": 0,
   "metadata": {
    "application/vnd.databricks.v1+cell": {
     "cellMetadata": {
      "byteLimit": 2048000,
      "rowLimit": 10000
     },
     "inputWidgets": {},
     "nuid": "0e8ef192-0a35-4c7f-be00-fd5e58efbec9",
     "showTitle": false,
     "tableResultSettingsMap": {},
     "title": ""
    }
   },
   "outputs": [],
   "source": [
    "# Adding the avg_material_cost column to enriched_df\n",
    "enriched_df = enriched_df.join(\n",
    "    avg_material_cost_by_code,\n",
    "    enriched_df.option_code == avg_material_cost_by_code.options_code,\n",
    "    how = 'left_outer'\n",
    ")\n",
    "enriched_df = enriched_df.drop('options_code')\n"
   ]
  },
  {
   "cell_type": "code",
   "execution_count": 0,
   "metadata": {
    "application/vnd.databricks.v1+cell": {
     "cellMetadata": {
      "byteLimit": 2048000,
      "rowLimit": 10000
     },
     "inputWidgets": {},
     "nuid": "3f0706b4-a071-4159-bc3a-6423f5c78c7d",
     "showTitle": false,
     "tableResultSettingsMap": {},
     "title": ""
    }
   },
   "outputs": [
    {
     "output_type": "stream",
     "name": "stdout",
     "output_type": "stream",
     "text": [
      "+---------------+-----------+--------------------+-------+-----------------+------------+---------------+----------+---------------+-------------+-----------------+\n|            vin|option_code|         option_desc|  model|       model_name|net_quantity|net_sales_price|  run_date|production_cost|material_cost|avg_material_cost|\n+---------------+-----------+--------------------+-------+-----------------+------------+---------------+----------+---------------+-------------+-----------------+\n|SAL423322000144|      005BB|  Core Paint - 005BB|Unknown|          Unknown|           1|    0.000000000|2025-09-05|           NULL|         NULL|             NULL|\n|SAL423322000042|      005BB|  Core Paint - 005BB|Unknown|          Unknown|           1|    0.000000000|2025-09-05|           NULL|         NULL|             NULL|\n|SAL423322000024|      005BB|  Core Paint - 005BB|Unknown|          Unknown|           1|    0.000000000|2025-09-05|           NULL|         NULL|             NULL|\n|SAL423322000096|      005BB|  Core Paint - 005BB|Unknown|          Unknown|           1|    0.000000000|2025-09-05|           NULL|         NULL|             NULL|\n|SAL423322000134|      005BB|  Core Paint - 005BB|Unknown|          Unknown|           1|    0.000000000|2025-09-05|           NULL|         NULL|             NULL|\n|SAL423322000105|      005BE|  Core Wheel - 005BE|   L320|Range Rover Sport|           1|    0.000000000|2025-09-05|           NULL|         NULL|             NULL|\n|SAL423322000161|      005BE|  Core Wheel - 005BE|   L320|Range Rover Sport|           1|    0.000000000|2025-09-05|           NULL|         NULL|             NULL|\n|SAL423322000049|      005BE|  Core Wheel - 005BE|   L320|Range Rover Sport|           1|    0.000000000|2025-09-05|           NULL|         NULL|             NULL|\n|SAL423322000100|      005BE|  Core Wheel - 005BE|   L320|Range Rover Sport|           1|    0.000000000|2025-09-05|           NULL|         NULL|             NULL|\n|SAL423322000097|      005BE|  Core Wheel - 005BE|   L320|Range Rover Sport|           1|    0.000000000|2025-09-05|           NULL|         NULL|             NULL|\n|SAL423322000129|      005BE|  Core Wheel - 005BE|   L320|Range Rover Sport|           1|    0.000000000|2025-09-05|           NULL|         NULL|             NULL|\n|SAL423322000160|      005BE|  Core Wheel - 005BE|   L320|Range Rover Sport|           1|    0.000000000|2025-09-05|           NULL|         NULL|             NULL|\n|SAL423322000548|      005BJ|Ebony Premium Hea...|   L462|          Unknown|           0|    0.000000000|2025-09-05|           NULL|         NULL|             NULL|\n|SAL423322000662|      005BJ|Ebony Premium Hea...|   L462|          Unknown|           0|    0.000000000|2025-09-05|           NULL|         NULL|             NULL|\n|SAL423322000237|      005BJ|Ebony Premium Hea...|   L462|          Unknown|           0|    0.000000000|2025-09-05|           NULL|         NULL|             NULL|\n|SAL423322000447|      005BJ|Ebony Premium Hea...|   L462|          Unknown|           0|    0.000000000|2025-09-05|           NULL|         NULL|             NULL|\n|SAL423322000415|      005BJ|Ebony Premium Hea...|   L462|          Unknown|           0|    0.000000000|2025-09-05|           NULL|         NULL|             NULL|\n|SAL423322001967|      005BJ|Ebony Premium Hea...|   L462|          Unknown|           0|    0.000000000|2025-09-05|           NULL|         NULL|             NULL|\n|SAL423322000202|      005BJ|Ebony Premium Hea...|   L462|          Unknown|           0|    0.000000000|2025-09-05|           NULL|         NULL|             NULL|\n|SAL423322000956|      005BJ|Ebony Premium Hea...|   L462|          Unknown|           0|    0.000000000|2025-09-05|           NULL|         NULL|             NULL|\n+---------------+-----------+--------------------+-------+-----------------+------------+---------------+----------+---------------+-------------+-----------------+\nonly showing top 20 rows\n"
     ]
    }
   ],
   "source": [
    "enriched_df.show()\n"
   ]
  },
  {
   "cell_type": "code",
   "execution_count": 0,
   "metadata": {
    "application/vnd.databricks.v1+cell": {
     "cellMetadata": {
      "byteLimit": 2048000,
      "rowLimit": 10000
     },
     "inputWidgets": {},
     "nuid": "e97e2937-60ff-48e2-886d-ba36fa44c323",
     "showTitle": false,
     "tableResultSettingsMap": {},
     "title": ""
    }
   },
   "outputs": [
    {
     "output_type": "execute_result",
     "data": {
      "text/plain": [
       "'\\nnull_report = enriched_df.select(\\n    [func.sum(func.when(func.col(c).isNull(), 1).otherwise(0)).alias(c) for c in enriched_df.columns]\\n)\\nprint(\"Null Value Report:\")\\nnull_report.show(truncate=False)\\n'"
      ]
     },
     "execution_count": 12,
     "metadata": {},
     "output_type": "execute_result"
    }
   ],
   "source": [
    "# Null value checks on the dataset\n",
    "\"\"\"\n",
    "null_report = enriched_df.select(\n",
    "    [func.sum(func.when(func.col(c).isNull(), 1).otherwise(0)).alias(c) for c in enriched_df.columns]\n",
    ")\n",
    "print(\"Null Value Report:\")\n",
    "null_report.show(truncate=False)\n",
    "\"\"\""
   ]
  },
  {
   "cell_type": "code",
   "execution_count": 0,
   "metadata": {
    "application/vnd.databricks.v1+cell": {
     "cellMetadata": {
      "byteLimit": 2048000,
      "rowLimit": 10000
     },
     "inputWidgets": {},
     "nuid": "d0d36761-b8e7-4d2c-a7c0-f442f33c91d6",
     "showTitle": false,
     "tableResultSettingsMap": {},
     "title": ""
    }
   },
   "outputs": [
    {
     "output_type": "stream",
     "name": "stdout",
     "output_type": "stream",
     "text": [
      "Number of records with net_sales_price <= 0: 725240\n"
     ]
    }
   ],
   "source": [
    "# Count of rows that should be updated by rule 1.\n",
    "count_for_rule_1_test = enriched_df.filter(func.col('net_sales_price') <= 0).count()\n",
    "print(f\"Number of records with net_sales_price <= 0: {count_for_rule_1_test}\")"
   ]
  },
  {
   "cell_type": "code",
   "execution_count": 0,
   "metadata": {
    "application/vnd.databricks.v1+cell": {
     "cellMetadata": {
      "byteLimit": 2048000,
      "rowLimit": 10000
     },
     "inputWidgets": {},
     "nuid": "544a5d52-fa80-4d83-8295-8416c3d13b8c",
     "showTitle": false,
     "tableResultSettingsMap": {},
     "title": ""
    }
   },
   "outputs": [],
   "source": [
    "# Rule 1: Set 'production_cost' to 0 if 'net_sales_price' is less than or equal to 0, ensuring costs are not assigned to non-revenue-generating items.\n",
    "\n",
    "enriched_df = enriched_df.withColumn(\n",
    "    'production_cost',\n",
    "    func.when(func.col('net_sales_price') <= 0, 0).otherwise(func.col('production_cost'))\n",
    ")"
   ]
  },
  {
   "cell_type": "code",
   "execution_count": 0,
   "metadata": {
    "application/vnd.databricks.v1+cell": {
     "cellMetadata": {
      "byteLimit": 2048000,
      "rowLimit": 10000
     },
     "inputWidgets": {},
     "nuid": "57303dec-f25c-4fdf-b0d3-01423491ba5c",
     "showTitle": false,
     "tableResultSettingsMap": {},
     "title": ""
    }
   },
   "outputs": [
    {
     "output_type": "stream",
     "name": "stdout",
     "output_type": "stream",
     "text": [
      "Number of records with net_sales_price <= 0: 725240\n"
     ]
    }
   ],
   "source": [
    "# Test after rule 1\n",
    "count_after_rule_1_test = enriched_df.filter(func.col('production_cost') == 0).count()\n",
    "print(f\"Number of records with net_sales_price <= 0: {count_after_rule_1_test}\")"
   ]
  },
  {
   "cell_type": "code",
   "execution_count": 0,
   "metadata": {
    "application/vnd.databricks.v1+cell": {
     "cellMetadata": {
      "byteLimit": 2048000,
      "rowLimit": 10000
     },
     "inputWidgets": {},
     "nuid": "983cf4e8-1f4a-4210-885e-deb2c1001db6",
     "showTitle": false,
     "tableResultSettingsMap": {},
     "title": ""
    }
   },
   "outputs": [
    {
     "output_type": "stream",
     "name": "stdout",
     "output_type": "stream",
     "text": [
      "Rule 1 passed.\n"
     ]
    }
   ],
   "source": [
    "# Rule 1 Status\n",
    "if count_for_rule_1_test != count_after_rule_1_test:\n",
    "    print(\"Rule 1 failed.\")\n",
    "else:\n",
    "    print(\"Rule 1 passed.\")"
   ]
  },
  {
   "cell_type": "code",
   "execution_count": 0,
   "metadata": {
    "application/vnd.databricks.v1+cell": {
     "cellMetadata": {
      "byteLimit": 2048000,
      "rowLimit": 10000
     },
     "inputWidgets": {},
     "nuid": "42b449e8-250f-4818-abef-c1aee7bf2f4f",
     "showTitle": false,
     "tableResultSettingsMap": {},
     "title": ""
    }
   },
   "outputs": [],
   "source": [
    "#enriched_df.show()"
   ]
  },
  {
   "cell_type": "code",
   "execution_count": 0,
   "metadata": {
    "application/vnd.databricks.v1+cell": {
     "cellMetadata": {
      "byteLimit": 2048000,
      "rowLimit": 10000
     },
     "inputWidgets": {},
     "nuid": "69426c46-7e65-463f-9254-a44ea955ed87",
     "showTitle": false,
     "tableResultSettingsMap": {},
     "title": ""
    }
   },
   "outputs": [
    {
     "output_type": "execute_result",
     "data": {
      "text/plain": [
       "'\\nnull_report = enriched_df.select(\\n    [func.sum(func.when(func.col(c).isNull(), 1).otherwise(0)).alias(c) for c in enriched_df.columns]\\n)\\nprint(\"Null Value Report:\")\\nnull_report.show(truncate=False)\\n'"
      ]
     },
     "execution_count": 18,
     "metadata": {},
     "output_type": "execute_result"
    }
   ],
   "source": [
    "# Null value checks on the dataset\n",
    "\"\"\"\n",
    "null_report = enriched_df.select(\n",
    "    [func.sum(func.when(func.col(c).isNull(), 1).otherwise(0)).alias(c) for c in enriched_df.columns]\n",
    ")\n",
    "print(\"Null Value Report:\")\n",
    "null_report.show(truncate=False)\n",
    "\"\"\""
   ]
  },
  {
   "cell_type": "code",
   "execution_count": 0,
   "metadata": {
    "application/vnd.databricks.v1+cell": {
     "cellMetadata": {
      "byteLimit": 2048000,
      "rowLimit": 10000
     },
     "inputWidgets": {},
     "nuid": "c2ff21d2-4267-4a97-80dd-62dc8415f437",
     "showTitle": false,
     "tableResultSettingsMap": {},
     "title": ""
    }
   },
   "outputs": [
    {
     "output_type": "stream",
     "name": "stdout",
     "output_type": "stream",
     "text": [
      "Number of records with production_cost null and material_cost not null : 313583\nNumber of records with production_cost null and material_cost null : 68924\nTotal production cost null left in the data : 1000145\nTotal number of records with production_cost null to be fixed in Rule 2 and 3 : 382507\nRemaining production cost null after Rule 2 and 3: 617638\n"
     ]
    }
   ],
   "source": [
    "count_for_rule_2_test = enriched_df.filter(func.col('production_cost').isNull() &\n",
    "                                           func.col('material_cost').isNotNull()).count()\n",
    "print(f\"Number of records with production_cost null and material_cost not null : {count_for_rule_2_test}\")\n",
    "count_for_rule_3_test = enriched_df.filter(func.col('production_cost').isNull() &\n",
    "                                           func.col('material_cost').isNull() &\n",
    "                                           func.col('avg_material_cost').isNotNull()).count()\n",
    "print(f\"Number of records with production_cost null and material_cost null : {count_for_rule_3_test}\")\n",
    "total_nulls = enriched_df.filter(func.col('production_cost').isNull()).count()\n",
    "print(f\"Total production cost null left in the data : {total_nulls}\")\n",
    "print(f\"Total number of records with production_cost null to be fixed in Rule 2 and 3 : {count_for_rule_2_test + count_for_rule_3_test}\")\n",
    "expected_null_after_2_3 = total_nulls - (count_for_rule_2_test + count_for_rule_3_test)\n",
    "print(f\"Remaining production cost null after Rule 2 and 3: {expected_null_after_2_3}\")"
   ]
  },
  {
   "cell_type": "code",
   "execution_count": 0,
   "metadata": {
    "application/vnd.databricks.v1+cell": {
     "cellMetadata": {
      "byteLimit": 2048000,
      "rowLimit": 10000
     },
     "inputWidgets": {},
     "nuid": "d616cc31-25f9-45e0-a6b7-70d5f0fcdf14",
     "showTitle": false,
     "tableResultSettingsMap": {},
     "title": ""
    }
   },
   "outputs": [],
   "source": [
    "# Rule 2: If 'production_cost' is null but 'material_cost' is available, use 'material_cost' as the production cost.\n",
    "# Rule 3: If both 'production_cost' and 'material_cost' are null, default to the pre-calculated 'avg_material_cost'.\n",
    "enriched_df = enriched_df.withColumn(\n",
    "    'production_cost',\n",
    "    func.when(\n",
    "        func.col('production_cost').isNull() & func.col('material_cost').isNotNull(),\n",
    "        func.col('material_cost')\n",
    "    ).when(\n",
    "        func.col('production_cost').isNull() & func.col('material_cost').isNull(),\n",
    "        func.col('avg_material_cost')\n",
    "    ).otherwise(\n",
    "        func.col('production_cost')\n",
    "    )\n",
    ")"
   ]
  },
  {
   "cell_type": "code",
   "execution_count": 0,
   "metadata": {
    "application/vnd.databricks.v1+cell": {
     "cellMetadata": {
      "byteLimit": 2048000,
      "rowLimit": 10000
     },
     "inputWidgets": {},
     "nuid": "ffc9a02d-a3a2-408c-9bfb-56b14cc8199f",
     "showTitle": false,
     "tableResultSettingsMap": {},
     "title": ""
    }
   },
   "outputs": [
    {
     "output_type": "stream",
     "name": "stdout",
     "output_type": "stream",
     "text": [
      "Number of records with production_cost null after Rule 2 and 3: 617638\n"
     ]
    }
   ],
   "source": [
    "count_after_rule_2_3_test = enriched_df.filter(func.col('production_cost').isNull()).count()\n",
    "print(f\"Number of records with production_cost null after Rule 2 and 3: {count_after_rule_2_3_test}\")"
   ]
  },
  {
   "cell_type": "code",
   "execution_count": 0,
   "metadata": {
    "application/vnd.databricks.v1+cell": {
     "cellMetadata": {
      "byteLimit": 2048000,
      "rowLimit": 10000
     },
     "inputWidgets": {},
     "nuid": "a21243c2-ed87-430d-9c38-eea6b1fcdadf",
     "showTitle": false,
     "tableResultSettingsMap": {},
     "title": ""
    }
   },
   "outputs": [
    {
     "output_type": "stream",
     "name": "stdout",
     "output_type": "stream",
     "text": [
      "Rule 2 and 3 passed.\n"
     ]
    }
   ],
   "source": [
    "# Rule 2 and 3 status\n",
    "if (expected_null_after_2_3) != count_after_rule_2_3_test:\n",
    "    print(\"Rule 2 and 3 failed.\")\n",
    "else:\n",
    "    print(\"Rule 2 and 3 passed.\")"
   ]
  },
  {
   "cell_type": "code",
   "execution_count": 0,
   "metadata": {
    "application/vnd.databricks.v1+cell": {
     "cellMetadata": {
      "byteLimit": 2048000,
      "rowLimit": 10000
     },
     "inputWidgets": {},
     "nuid": "e75ec5da-7e7f-4c62-966c-139b87df12b1",
     "showTitle": false,
     "tableResultSettingsMap": {},
     "title": ""
    }
   },
   "outputs": [
    {
     "output_type": "execute_result",
     "data": {
      "text/plain": [
       "'\\nnull_report = enriched_df.select(\\n    [func.sum(func.when(func.col(c).isNull(), 1).otherwise(0)).alias(c) for c in enriched_df.columns]\\n)\\nprint(\"Null Value Report:\")\\nnull_report.show(truncate=False)\\n'"
      ]
     },
     "execution_count": 23,
     "metadata": {},
     "output_type": "execute_result"
    }
   ],
   "source": [
    "\"\"\"\n",
    "null_report = enriched_df.select(\n",
    "    [func.sum(func.when(func.col(c).isNull(), 1).otherwise(0)).alias(c) for c in enriched_df.columns]\n",
    ")\n",
    "print(\"Null Value Report:\")\n",
    "null_report.show(truncate=False)\n",
    "\"\"\""
   ]
  },
  {
   "cell_type": "code",
   "execution_count": 0,
   "metadata": {
    "application/vnd.databricks.v1+cell": {
     "cellMetadata": {
      "byteLimit": 2048000,
      "rowLimit": 10000
     },
     "inputWidgets": {},
     "nuid": "2d39a1c1-40eb-4fd4-ad53-dada0dc52160",
     "showTitle": false,
     "tableResultSettingsMap": {},
     "title": ""
    }
   },
   "outputs": [
    {
     "output_type": "stream",
     "name": "stdout",
     "output_type": "stream",
     "text": [
      "Number of records with production_cost null after Rule 4: 617638\n"
     ]
    }
   ],
   "source": [
    "count_for_rule_4_test = enriched_df.filter(func.col('production_cost').isNull()).count()\n",
    "print(f\"Number of records with production_cost null after Rule 4: {count_for_rule_4_test}\")"
   ]
  },
  {
   "cell_type": "code",
   "execution_count": 0,
   "metadata": {
    "application/vnd.databricks.v1+cell": {
     "cellMetadata": {
      "byteLimit": 2048000,
      "rowLimit": 10000
     },
     "inputWidgets": {},
     "nuid": "3d94a437-d73b-4320-9d12-abb8981226c4",
     "showTitle": false,
     "tableResultSettingsMap": {},
     "title": ""
    }
   },
   "outputs": [],
   "source": [
    "# Rule 4: If 'production_cost', 'material_cost', and 'avg_material_cost' are all null, estimate the production cost as 45% of the 'net_sales_price'. This provides a fallback calculation when all other cost data is missing.\n",
    "\n",
    "enriched_df = enriched_df.withColumn(\n",
    "    'production_cost',\n",
    "    func.when(\n",
    "         func.col('production_cost').isNull() &\n",
    "         func.col('avg_material_cost').isNull() &\n",
    "         func.col('avg_material_cost').isNull(),\n",
    "        func.col('net_sales_price') * 0.45\n",
    "    ).otherwise(\n",
    "        func.col('production_cost')\n",
    "    )\n",
    ")\n",
    "final_enriched_df = enriched_df.drop('material_cost','avg_material_cost')"
   ]
  },
  {
   "cell_type": "code",
   "execution_count": 0,
   "metadata": {
    "application/vnd.databricks.v1+cell": {
     "cellMetadata": {
      "byteLimit": 2048000,
      "rowLimit": 10000
     },
     "inputWidgets": {},
     "nuid": "94f910f3-6e32-4775-a537-ab36ffc52f33",
     "showTitle": false,
     "tableResultSettingsMap": {},
     "title": ""
    }
   },
   "outputs": [
    {
     "output_type": "stream",
     "name": "stdout",
     "output_type": "stream",
     "text": [
      "Number of records with production_cost null after Rule 4: 0\nRule 4 passed.\n"
     ]
    }
   ],
   "source": [
    "count_after_rule_4_test = enriched_df.filter(func.col('production_cost').isNull()).count()\n",
    "print(f\"Number of records with production_cost null after Rule 4: {count_after_rule_4_test}\")\n",
    "# Rule 4 Status\n",
    "if count_after_rule_4_test == 0:\n",
    "    print(\"Rule 4 passed.\")\n",
    "else:\n",
    "    print(\"Rule 4 failed.\")"
   ]
  },
  {
   "cell_type": "code",
   "execution_count": 0,
   "metadata": {
    "application/vnd.databricks.v1+cell": {
     "cellMetadata": {
      "byteLimit": 2048000,
      "rowLimit": 10000
     },
     "inputWidgets": {},
     "nuid": "753275d5-d8b2-4848-8359-2698d8567f30",
     "showTitle": false,
     "tableResultSettingsMap": {},
     "title": ""
    }
   },
   "outputs": [
    {
     "output_type": "execute_result",
     "data": {
      "text/plain": [
       "'\\nnull_report = enriched_df.select(\\n    [func.sum(func.when(func.col(c).isNull(), 1).otherwise(0)).alias(c) for c in enriched_df.columns]\\n)\\nprint(\"Null Value Report:\")\\nnull_report.show(truncate=False)\\n'"
      ]
     },
     "execution_count": 27,
     "metadata": {},
     "output_type": "execute_result"
    }
   ],
   "source": [
    "\"\"\"\n",
    "null_report = enriched_df.select(\n",
    "    [func.sum(func.when(func.col(c).isNull(), 1).otherwise(0)).alias(c) for c in enriched_df.columns]\n",
    ")\n",
    "print(\"Null Value Report:\")\n",
    "null_report.show(truncate=False)\n",
    "\"\"\""
   ]
  },
  {
   "cell_type": "code",
   "execution_count": 0,
   "metadata": {
    "application/vnd.databricks.v1+cell": {
     "cellMetadata": {
      "byteLimit": 2048000,
      "rowLimit": 10000
     },
     "inputWidgets": {},
     "nuid": "0e562e7b-0469-46f2-bb38-0f7c96db26a6",
     "showTitle": false,
     "tableResultSettingsMap": {},
     "title": ""
    }
   },
   "outputs": [],
   "source": [
    "# Joining the enriched data with the vehicle data for reporting\n",
    "\n",
    "final_enriched_df = final_enriched_df.join(\n",
    "    vlm_df,\n",
    "    final_enriched_df.model == vlm_df.nameplate_code,\n",
    "    how = 'left_outer'\n",
    ")\n",
    "final_enriched_df = final_enriched_df.drop(func.col('nameplate_code'))\n",
    "final_enriched_df = final_enriched_df.drop(vlm_df.run_date)\n",
    "final_enriched_df = final_enriched_df.na.fill(\n",
    "    'Unknown',\n",
    "    subset = ['brand', 'platform', 'nameplate_display']\n",
    ")"
   ]
  },
  {
   "cell_type": "code",
   "execution_count": 0,
   "metadata": {
    "application/vnd.databricks.v1+cell": {
     "cellMetadata": {
      "byteLimit": 2048000,
      "rowLimit": 10000
     },
     "inputWidgets": {},
     "nuid": "ac6b61b1-3a13-4989-885f-5a1564c4bb2a",
     "showTitle": false,
     "tableResultSettingsMap": {},
     "title": ""
    }
   },
   "outputs": [
    {
     "output_type": "execute_result",
     "data": {
      "text/plain": [
       "'\\nnull_report = final_enriched_df.select(\\n    [func.sum(func.when(func.col(c).isNull(), 1).otherwise(0)).alias(c) for c in final_enriched_df.columns]\\n)\\nprint(\"Null Value Report:\")\\nnull_report.show(truncate=False)\\n'"
      ]
     },
     "execution_count": 29,
     "metadata": {},
     "output_type": "execute_result"
    }
   ],
   "source": [
    "\"\"\"\n",
    "null_report = final_enriched_df.select(\n",
    "    [func.sum(func.when(func.col(c).isNull(), 1).otherwise(0)).alias(c) for c in final_enriched_df.columns]\n",
    ")\n",
    "print(\"Null Value Report:\")\n",
    "null_report.show(truncate=False)\n",
    "\"\"\""
   ]
  },
  {
   "cell_type": "code",
   "execution_count": 0,
   "metadata": {
    "application/vnd.databricks.v1+cell": {
     "cellMetadata": {
      "byteLimit": 2048000,
      "rowLimit": 10000
     },
     "inputWidgets": {},
     "nuid": "28b4912b-9f39-4b35-aa25-24a6ada87257",
     "showTitle": false,
     "tableResultSettingsMap": {},
     "title": ""
    }
   },
   "outputs": [
    {
     "output_type": "stream",
     "name": "stdout",
     "output_type": "stream",
     "text": [
      "Folder exists with data: gs://enrichment-etl-jlr/transformed/enriched/\nDeleted old data\nFolder is clean or does not exist: gs://enrichment-etl-jlr/transformed/enriched_parquet/\n"
     ]
    }
   ],
   "source": [
    "# Checking and emptying the parquet folders.\n",
    "def folder_exists(path: str) -> bool:\n",
    "    try:\n",
    "        return len(dbutils.fs.ls(path)) > 0\n",
    "    except Exception:\n",
    "        return False\n",
    "\n",
    "parquet_folder_paths = [\"gs://enrichment-etl-jlr/transformed/enriched/\", \"gs://enrichment-etl-jlr/transformed/enriched_parquet/\"]\n",
    "for parquet_folder_path in parquet_folder_paths:\n",
    "    if folder_exists(parquet_folder_path):\n",
    "        print(f\"Folder exists with data: {parquet_folder_path}\")\n",
    "        dbutils.fs.rm(parquet_folder_path, recurse=True)\n",
    "        print(\"Deleted old data\")\n",
    "    else:\n",
    "        print(f\"Folder is clean or does not exist: {parquet_folder_path}\")"
   ]
  },
  {
   "cell_type": "code",
   "execution_count": 0,
   "metadata": {
    "application/vnd.databricks.v1+cell": {
     "cellMetadata": {
      "byteLimit": 2048000,
      "rowLimit": 10000
     },
     "inputWidgets": {},
     "nuid": "e5b2c162-a81f-43cf-b9fb-e55dcbe6317a",
     "showTitle": false,
     "tableResultSettingsMap": {},
     "title": ""
    }
   },
   "outputs": [
    {
     "output_type": "stream",
     "name": "stdout",
     "output_type": "stream",
     "text": [
      "+---------------+-----------+--------------------+-------+-----------------+------------+---------------+----------+---------------+----------+--------+--------------------+\n|            vin|option_code|         option_desc|  model|       model_name|net_quantity|net_sales_price|  run_date|production_cost|     brand|platform|   nameplate_display|\n+---------------+-----------+--------------------+-------+-----------------+------------+---------------+----------+---------------+----------+--------+--------------------+\n|SAL423322000144|      005BB|  Core Paint - 005BB|Unknown|          Unknown|           1|    0.000000000|2025-09-05|            0.0|   Unknown| Unknown|             Unknown|\n|SAL423322000042|      005BB|  Core Paint - 005BB|Unknown|          Unknown|           1|    0.000000000|2025-09-05|            0.0|   Unknown| Unknown|             Unknown|\n|SAL423322000024|      005BB|  Core Paint - 005BB|Unknown|          Unknown|           1|    0.000000000|2025-09-05|            0.0|   Unknown| Unknown|             Unknown|\n|SAL423322000096|      005BB|  Core Paint - 005BB|Unknown|          Unknown|           1|    0.000000000|2025-09-05|            0.0|   Unknown| Unknown|             Unknown|\n|SAL423322000134|      005BB|  Core Paint - 005BB|Unknown|          Unknown|           1|    0.000000000|2025-09-05|            0.0|   Unknown| Unknown|             Unknown|\n|SAL423322000105|      005BE|  Core Wheel - 005BE|   L320|Range Rover Sport|           1|    0.000000000|2025-09-05|            0.0|   Unknown| Unknown|             Unknown|\n|SAL423322000161|      005BE|  Core Wheel - 005BE|   L320|Range Rover Sport|           1|    0.000000000|2025-09-05|            0.0|   Unknown| Unknown|             Unknown|\n|SAL423322000049|      005BE|  Core Wheel - 005BE|   L320|Range Rover Sport|           1|    0.000000000|2025-09-05|            0.0|   Unknown| Unknown|             Unknown|\n|SAL423322000100|      005BE|  Core Wheel - 005BE|   L320|Range Rover Sport|           1|    0.000000000|2025-09-05|            0.0|   Unknown| Unknown|             Unknown|\n|SAL423322000097|      005BE|  Core Wheel - 005BE|   L320|Range Rover Sport|           1|    0.000000000|2025-09-05|            0.0|   Unknown| Unknown|             Unknown|\n|SAL423322000129|      005BE|  Core Wheel - 005BE|   L320|Range Rover Sport|           1|    0.000000000|2025-09-05|            0.0|   Unknown| Unknown|             Unknown|\n|SAL423322000160|      005BE|  Core Wheel - 005BE|   L320|Range Rover Sport|           1|    0.000000000|2025-09-05|            0.0|   Unknown| Unknown|             Unknown|\n|SAL423322000548|      005BJ|Ebony Premium Hea...|   L462|          Unknown|           0|    0.000000000|2025-09-05|            0.0|Land Rover|     D7u|Land Rover Discovery|\n|SAL423322000662|      005BJ|Ebony Premium Hea...|   L462|          Unknown|           0|    0.000000000|2025-09-05|            0.0|Land Rover|     D7u|Land Rover Discovery|\n|SAL423322000237|      005BJ|Ebony Premium Hea...|   L462|          Unknown|           0|    0.000000000|2025-09-05|            0.0|Land Rover|     D7u|Land Rover Discovery|\n|SAL423322000447|      005BJ|Ebony Premium Hea...|   L462|          Unknown|           0|    0.000000000|2025-09-05|            0.0|Land Rover|     D7u|Land Rover Discovery|\n|SAL423322000415|      005BJ|Ebony Premium Hea...|   L462|          Unknown|           0|    0.000000000|2025-09-05|            0.0|Land Rover|     D7u|Land Rover Discovery|\n|SAL423322001967|      005BJ|Ebony Premium Hea...|   L462|          Unknown|           0|    0.000000000|2025-09-05|            0.0|Land Rover|     D7u|Land Rover Discovery|\n|SAL423322000202|      005BJ|Ebony Premium Hea...|   L462|          Unknown|           0|    0.000000000|2025-09-05|            0.0|Land Rover|     D7u|Land Rover Discovery|\n|SAL423322000956|      005BJ|Ebony Premium Hea...|   L462|          Unknown|           0|    0.000000000|2025-09-05|            0.0|Land Rover|     D7u|Land Rover Discovery|\n+---------------+-----------+--------------------+-------+-----------------+------------+---------------+----------+---------------+----------+--------+--------------------+\nonly showing top 20 rows\n"
     ]
    }
   ],
   "source": [
    "final_enriched_df.show()"
   ]
  },
  {
   "cell_type": "code",
   "execution_count": 0,
   "metadata": {
    "application/vnd.databricks.v1+cell": {
     "cellMetadata": {
      "byteLimit": 2048000,
      "rowLimit": 10000
     },
     "inputWidgets": {},
     "nuid": "cf962053-effa-4eb8-983a-8f213b3ee984",
     "showTitle": false,
     "tableResultSettingsMap": {},
     "title": ""
    }
   },
   "outputs": [],
   "source": [
    "# Writing the enriched data to parquet\n",
    "final_enriched_df.withColumn(\n",
    "    \"run_date\", func.lit(RUN_DATE)\n",
    "    ).write.mode(\"overwrite\").partitionBy(\"run_date\").parquet('gs://enrichment-etl-jlr/transformed/enriched/')\n"
   ]
  },
  {
   "cell_type": "code",
   "execution_count": 0,
   "metadata": {
    "application/vnd.databricks.v1+cell": {
     "cellMetadata": {
      "byteLimit": 2048000,
      "rowLimit": 10000
     },
     "inputWidgets": {},
     "nuid": "932800be-ff0d-47f0-af54-870ffc53d11e",
     "showTitle": false,
     "tableResultSettingsMap": {},
     "title": ""
    }
   },
   "outputs": [],
   "source": [
    "exit()"
   ]
  }
 ],
 "metadata": {
  "application/vnd.databricks.v1+notebook": {
   "computePreferences": null,
   "dashboards": [],
   "environmentMetadata": {
    "base_environment": "",
    "environment_version": "3"
   },
   "inputWidgetPreferences": null,
   "language": "python",
   "notebookMetadata": {
    "pythonIndentUnit": 4
   },
   "notebookName": "Data_Enrichment",
   "widgets": {}
  },
  "language_info": {
   "name": "python"
  }
 },
 "nbformat": 4,
 "nbformat_minor": 0
}